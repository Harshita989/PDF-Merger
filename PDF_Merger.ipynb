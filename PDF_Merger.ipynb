{
  "nbformat": 4,
  "nbformat_minor": 0,
  "metadata": {
    "colab": {
      "provenance": [],
      "authorship_tag": "ABX9TyOoTodm0gK3DvpZE3rnFuHS",
      "include_colab_link": true
    },
    "kernelspec": {
      "name": "python3",
      "display_name": "Python 3"
    },
    "language_info": {
      "name": "python"
    }
  },
  "cells": [
    {
      "cell_type": "markdown",
      "metadata": {
        "id": "view-in-github",
        "colab_type": "text"
      },
      "source": [
        "<a href=\"https://colab.research.google.com/github/Harshita989/PDF-Merger/blob/main/PDF_Merger.ipynb\" target=\"_parent\"><img src=\"https://colab.research.google.com/assets/colab-badge.svg\" alt=\"Open In Colab\"/></a>"
      ]
    },
    {
      "cell_type": "code",
      "source": [
        "pip install PyPDF2"
      ],
      "metadata": {
        "colab": {
          "base_uri": "https://localhost:8080/"
        },
        "id": "sb8kpkNVZM76",
        "outputId": "9d28ab9b-bbcb-4d87-9f0a-5b28261cac43"
      },
      "execution_count": 2,
      "outputs": [
        {
          "output_type": "stream",
          "name": "stdout",
          "text": [
            "Collecting PyPDF2\n",
            "  Downloading pypdf2-3.0.1-py3-none-any.whl (232 kB)\n",
            "\u001b[2K     \u001b[90m━━━━━━━━━━━━━━━━━━━━━━━━━━━━━━━━━━━━━━━━\u001b[0m \u001b[32m232.6/232.6 kB\u001b[0m \u001b[31m3.6 MB/s\u001b[0m eta \u001b[36m0:00:00\u001b[0m\n",
            "\u001b[?25hInstalling collected packages: PyPDF2\n",
            "Successfully installed PyPDF2-3.0.1\n"
          ]
        }
      ]
    },
    {
      "cell_type": "code",
      "execution_count": 3,
      "metadata": {
        "colab": {
          "base_uri": "https://localhost:8080/"
        },
        "id": "7cD2ihgVYl5q",
        "outputId": "bb2d5a90-3f84-4b79-da99-6ada28b18839"
      },
      "outputs": [
        {
          "output_type": "stream",
          "name": "stdout",
          "text": [
            "PDF files merged and saved as merged.pdf\n"
          ]
        }
      ],
      "source": [
        "import PyPDF2\n",
        "import os\n",
        "\n",
        "# Set the directory containing the PDF files to be merged\n",
        "pdf_dir = '/content/Directory'\n",
        "\n",
        "# Create a new PDF file merger object\n",
        "merger = PyPDF2.PdfMerger()\n",
        "\n",
        "# Loop through all the PDF files in the directory\n",
        "for filename in os.listdir(pdf_dir):\n",
        "    if filename.endswith('.pdf'):\n",
        "        pdf_path = os.path.join(pdf_dir, filename)\n",
        "        with open(pdf_path, 'rb') as file:\n",
        "            # Create a PDF reader object\n",
        "            reader = PyPDF2.PdfReader(file)\n",
        "\n",
        "            # Add all pages from the current PDF file to the merger\n",
        "            merger.append(reader)\n",
        "\n",
        "# Create a new output PDF file\n",
        "output_filename = 'merged.pdf'\n",
        "with open(output_filename, 'wb') as output_file:\n",
        "    # Write the merged PDF to the output file\n",
        "    merger.write(output_file)\n",
        "\n",
        "print(f'PDF files merged and saved as {output_filename}')"
      ]
    },
    {
      "cell_type": "code",
      "source": [],
      "metadata": {
        "id": "7ynGuqelZL2u"
      },
      "execution_count": null,
      "outputs": []
    }
  ]
}